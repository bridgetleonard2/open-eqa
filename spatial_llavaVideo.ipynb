{
 "cells": [
  {
   "cell_type": "code",
   "execution_count": 1,
   "metadata": {},
   "outputs": [
    {
     "name": "stderr",
     "output_type": "stream",
     "text": [
      "c:\\Users\\Bridget Leonard\\AppData\\Local\\Programs\\Python\\Python311\\Lib\\site-packages\\tqdm\\auto.py:21: TqdmWarning: IProgress not found. Please update jupyter and ipywidgets. See https://ipywidgets.readthedocs.io/en/stable/user_install.html\n",
      "  from .autonotebook import tqdm as notebook_tqdm\n"
     ]
    }
   ],
   "source": [
    "import pandas as pd\n",
    "import numpy as np\n",
    "from PIL import Image\n",
    "import os\n",
    "from transformers import VideoLlavaForConditionalGeneration, VideoLlavaProcessor"
   ]
  },
  {
   "cell_type": "code",
   "execution_count": 2,
   "metadata": {},
   "outputs": [],
   "source": [
    "open_eqa = pd.read_json(r\"data\\open-eqa-v0.json\")"
   ]
  },
  {
   "cell_type": "code",
   "execution_count": 3,
   "metadata": {},
   "outputs": [
    {
     "data": {
      "text/html": [
       "<div>\n",
       "<style scoped>\n",
       "    .dataframe tbody tr th:only-of-type {\n",
       "        vertical-align: middle;\n",
       "    }\n",
       "\n",
       "    .dataframe tbody tr th {\n",
       "        vertical-align: top;\n",
       "    }\n",
       "\n",
       "    .dataframe thead th {\n",
       "        text-align: right;\n",
       "    }\n",
       "</style>\n",
       "<table border=\"1\" class=\"dataframe\">\n",
       "  <thead>\n",
       "    <tr style=\"text-align: right;\">\n",
       "      <th></th>\n",
       "      <th>question</th>\n",
       "      <th>answer</th>\n",
       "      <th>category</th>\n",
       "      <th>question_id</th>\n",
       "      <th>episode_history</th>\n",
       "      <th>extra_answers</th>\n",
       "    </tr>\n",
       "  </thead>\n",
       "  <tbody>\n",
       "    <tr>\n",
       "      <th>0</th>\n",
       "      <td>What is the white object on the wall above the...</td>\n",
       "      <td>Air conditioning unit</td>\n",
       "      <td>object recognition</td>\n",
       "      <td>f2e82760-5c3c-41b1-88b6-85921b9e7b32</td>\n",
       "      <td>hm3d-v0/000-hm3d-BFRyYbPCCPE</td>\n",
       "      <td>NaN</td>\n",
       "    </tr>\n",
       "    <tr>\n",
       "      <th>1</th>\n",
       "      <td>What material is the ceiling in the living room?</td>\n",
       "      <td>Wood panel</td>\n",
       "      <td>attribute recognition</td>\n",
       "      <td>7447d782-d1a7-4c87-86dc-b5eafc5a0f76</td>\n",
       "      <td>hm3d-v0/000-hm3d-BFRyYbPCCPE</td>\n",
       "      <td>NaN</td>\n",
       "    </tr>\n",
       "    <tr>\n",
       "      <th>2</th>\n",
       "      <td>What color is the staircase railing?</td>\n",
       "      <td>Brown</td>\n",
       "      <td>attribute recognition</td>\n",
       "      <td>e2ccf6f4-22a9-47d1-ab8d-a05a13435b82</td>\n",
       "      <td>hm3d-v0/000-hm3d-BFRyYbPCCPE</td>\n",
       "      <td>NaN</td>\n",
       "    </tr>\n",
       "    <tr>\n",
       "      <th>3</th>\n",
       "      <td>What is in between the two picture frames on t...</td>\n",
       "      <td>The TV</td>\n",
       "      <td>spatial understanding</td>\n",
       "      <td>c841bb52-1cec-46d7-bb83-8c99b5c66fa8</td>\n",
       "      <td>hm3d-v0/000-hm3d-BFRyYbPCCPE</td>\n",
       "      <td>NaN</td>\n",
       "    </tr>\n",
       "    <tr>\n",
       "      <th>4</th>\n",
       "      <td>Is there room on the dining table to eat?</td>\n",
       "      <td>Yes</td>\n",
       "      <td>spatial understanding</td>\n",
       "      <td>79344680-6b45-4531-8789-ad0f5ef85b3b</td>\n",
       "      <td>hm3d-v0/000-hm3d-BFRyYbPCCPE</td>\n",
       "      <td>NaN</td>\n",
       "    </tr>\n",
       "  </tbody>\n",
       "</table>\n",
       "</div>"
      ],
      "text/plain": [
       "                                            question                 answer  \\\n",
       "0  What is the white object on the wall above the...  Air conditioning unit   \n",
       "1   What material is the ceiling in the living room?             Wood panel   \n",
       "2               What color is the staircase railing?                  Brown   \n",
       "3  What is in between the two picture frames on t...                 The TV   \n",
       "4          Is there room on the dining table to eat?                    Yes   \n",
       "\n",
       "                category                           question_id  \\\n",
       "0     object recognition  f2e82760-5c3c-41b1-88b6-85921b9e7b32   \n",
       "1  attribute recognition  7447d782-d1a7-4c87-86dc-b5eafc5a0f76   \n",
       "2  attribute recognition  e2ccf6f4-22a9-47d1-ab8d-a05a13435b82   \n",
       "3  spatial understanding  c841bb52-1cec-46d7-bb83-8c99b5c66fa8   \n",
       "4  spatial understanding  79344680-6b45-4531-8789-ad0f5ef85b3b   \n",
       "\n",
       "                episode_history extra_answers  \n",
       "0  hm3d-v0/000-hm3d-BFRyYbPCCPE           NaN  \n",
       "1  hm3d-v0/000-hm3d-BFRyYbPCCPE           NaN  \n",
       "2  hm3d-v0/000-hm3d-BFRyYbPCCPE           NaN  \n",
       "3  hm3d-v0/000-hm3d-BFRyYbPCCPE           NaN  \n",
       "4  hm3d-v0/000-hm3d-BFRyYbPCCPE           NaN  "
      ]
     },
     "execution_count": 3,
     "metadata": {},
     "output_type": "execute_result"
    }
   ],
   "source": [
    "open_eqa.head()"
   ]
  },
  {
   "cell_type": "code",
   "execution_count": 4,
   "metadata": {},
   "outputs": [
    {
     "name": "stdout",
     "output_type": "stream",
     "text": [
      "(220, 6)\n"
     ]
    },
    {
     "data": {
      "text/html": [
       "<div>\n",
       "<style scoped>\n",
       "    .dataframe tbody tr th:only-of-type {\n",
       "        vertical-align: middle;\n",
       "    }\n",
       "\n",
       "    .dataframe tbody tr th {\n",
       "        vertical-align: top;\n",
       "    }\n",
       "\n",
       "    .dataframe thead th {\n",
       "        text-align: right;\n",
       "    }\n",
       "</style>\n",
       "<table border=\"1\" class=\"dataframe\">\n",
       "  <thead>\n",
       "    <tr style=\"text-align: right;\">\n",
       "      <th></th>\n",
       "      <th>question</th>\n",
       "      <th>answer</th>\n",
       "      <th>category</th>\n",
       "      <th>question_id</th>\n",
       "      <th>episode_history</th>\n",
       "      <th>extra_answers</th>\n",
       "    </tr>\n",
       "  </thead>\n",
       "  <tbody>\n",
       "    <tr>\n",
       "      <th>3</th>\n",
       "      <td>What is in between the two picture frames on t...</td>\n",
       "      <td>The TV</td>\n",
       "      <td>spatial understanding</td>\n",
       "      <td>c841bb52-1cec-46d7-bb83-8c99b5c66fa8</td>\n",
       "      <td>hm3d-v0/000-hm3d-BFRyYbPCCPE</td>\n",
       "      <td>NaN</td>\n",
       "    </tr>\n",
       "    <tr>\n",
       "      <th>4</th>\n",
       "      <td>Is there room on the dining table to eat?</td>\n",
       "      <td>Yes</td>\n",
       "      <td>spatial understanding</td>\n",
       "      <td>79344680-6b45-4531-8789-ad0f5ef85b3b</td>\n",
       "      <td>hm3d-v0/000-hm3d-BFRyYbPCCPE</td>\n",
       "      <td>NaN</td>\n",
       "    </tr>\n",
       "    <tr>\n",
       "      <th>13</th>\n",
       "      <td>What is to the left of the mirror?</td>\n",
       "      <td>A plant in a tall vase</td>\n",
       "      <td>spatial understanding</td>\n",
       "      <td>b6dcf043-30a6-4b4e-9787-9b29bd1b1703</td>\n",
       "      <td>hm3d-v0/001-hm3d-TPhiubUHKcP</td>\n",
       "      <td>NaN</td>\n",
       "    </tr>\n",
       "    <tr>\n",
       "      <th>14</th>\n",
       "      <td>What is to the left of the staircase?</td>\n",
       "      <td>A storage closet</td>\n",
       "      <td>spatial understanding</td>\n",
       "      <td>5460114d-e885-4eae-8bdc-a273deb3df0a</td>\n",
       "      <td>hm3d-v0/001-hm3d-TPhiubUHKcP</td>\n",
       "      <td>NaN</td>\n",
       "    </tr>\n",
       "    <tr>\n",
       "      <th>22</th>\n",
       "      <td>What is on the top shelf to the right side of ...</td>\n",
       "      <td>An ice cooler</td>\n",
       "      <td>spatial understanding</td>\n",
       "      <td>9b4a7fbb-680d-4e39-8d60-7b1e521f3108</td>\n",
       "      <td>hm3d-v0/002-hm3d-wcojb4TFT35</td>\n",
       "      <td>NaN</td>\n",
       "    </tr>\n",
       "  </tbody>\n",
       "</table>\n",
       "</div>"
      ],
      "text/plain": [
       "                                             question                  answer  \\\n",
       "3   What is in between the two picture frames on t...                  The TV   \n",
       "4           Is there room on the dining table to eat?                     Yes   \n",
       "13                 What is to the left of the mirror?  A plant in a tall vase   \n",
       "14              What is to the left of the staircase?        A storage closet   \n",
       "22  What is on the top shelf to the right side of ...           An ice cooler   \n",
       "\n",
       "                 category                           question_id  \\\n",
       "3   spatial understanding  c841bb52-1cec-46d7-bb83-8c99b5c66fa8   \n",
       "4   spatial understanding  79344680-6b45-4531-8789-ad0f5ef85b3b   \n",
       "13  spatial understanding  b6dcf043-30a6-4b4e-9787-9b29bd1b1703   \n",
       "14  spatial understanding  5460114d-e885-4eae-8bdc-a273deb3df0a   \n",
       "22  spatial understanding  9b4a7fbb-680d-4e39-8d60-7b1e521f3108   \n",
       "\n",
       "                 episode_history extra_answers  \n",
       "3   hm3d-v0/000-hm3d-BFRyYbPCCPE           NaN  \n",
       "4   hm3d-v0/000-hm3d-BFRyYbPCCPE           NaN  \n",
       "13  hm3d-v0/001-hm3d-TPhiubUHKcP           NaN  \n",
       "14  hm3d-v0/001-hm3d-TPhiubUHKcP           NaN  \n",
       "22  hm3d-v0/002-hm3d-wcojb4TFT35           NaN  "
      ]
     },
     "execution_count": 4,
     "metadata": {},
     "output_type": "execute_result"
    }
   ],
   "source": [
    "spatial = open_eqa[open_eqa.category == 'spatial understanding']\n",
    "print(spatial.shape)\n",
    "spatial.head()"
   ]
  },
  {
   "cell_type": "code",
   "execution_count": 5,
   "metadata": {},
   "outputs": [
    {
     "name": "stdout",
     "output_type": "stream",
     "text": [
      "(69, 6)\n"
     ]
    },
    {
     "data": {
      "text/html": [
       "<div>\n",
       "<style scoped>\n",
       "    .dataframe tbody tr th:only-of-type {\n",
       "        vertical-align: middle;\n",
       "    }\n",
       "\n",
       "    .dataframe tbody tr th {\n",
       "        vertical-align: top;\n",
       "    }\n",
       "\n",
       "    .dataframe thead th {\n",
       "        text-align: right;\n",
       "    }\n",
       "</style>\n",
       "<table border=\"1\" class=\"dataframe\">\n",
       "  <thead>\n",
       "    <tr style=\"text-align: right;\">\n",
       "      <th></th>\n",
       "      <th>question</th>\n",
       "      <th>answer</th>\n",
       "      <th>category</th>\n",
       "      <th>question_id</th>\n",
       "      <th>episode_history</th>\n",
       "      <th>extra_answers</th>\n",
       "    </tr>\n",
       "  </thead>\n",
       "  <tbody>\n",
       "    <tr>\n",
       "      <th>3</th>\n",
       "      <td>What is in between the two picture frames on t...</td>\n",
       "      <td>The TV</td>\n",
       "      <td>spatial understanding</td>\n",
       "      <td>c841bb52-1cec-46d7-bb83-8c99b5c66fa8</td>\n",
       "      <td>hm3d-v0/000-hm3d-BFRyYbPCCPE</td>\n",
       "      <td>NaN</td>\n",
       "    </tr>\n",
       "    <tr>\n",
       "      <th>4</th>\n",
       "      <td>Is there room on the dining table to eat?</td>\n",
       "      <td>Yes</td>\n",
       "      <td>spatial understanding</td>\n",
       "      <td>79344680-6b45-4531-8789-ad0f5ef85b3b</td>\n",
       "      <td>hm3d-v0/000-hm3d-BFRyYbPCCPE</td>\n",
       "      <td>NaN</td>\n",
       "    </tr>\n",
       "    <tr>\n",
       "      <th>13</th>\n",
       "      <td>What is to the left of the mirror?</td>\n",
       "      <td>A plant in a tall vase</td>\n",
       "      <td>spatial understanding</td>\n",
       "      <td>b6dcf043-30a6-4b4e-9787-9b29bd1b1703</td>\n",
       "      <td>hm3d-v0/001-hm3d-TPhiubUHKcP</td>\n",
       "      <td>NaN</td>\n",
       "    </tr>\n",
       "    <tr>\n",
       "      <th>14</th>\n",
       "      <td>What is to the left of the staircase?</td>\n",
       "      <td>A storage closet</td>\n",
       "      <td>spatial understanding</td>\n",
       "      <td>5460114d-e885-4eae-8bdc-a273deb3df0a</td>\n",
       "      <td>hm3d-v0/001-hm3d-TPhiubUHKcP</td>\n",
       "      <td>NaN</td>\n",
       "    </tr>\n",
       "    <tr>\n",
       "      <th>22</th>\n",
       "      <td>What is on the top shelf to the right side of ...</td>\n",
       "      <td>An ice cooler</td>\n",
       "      <td>spatial understanding</td>\n",
       "      <td>9b4a7fbb-680d-4e39-8d60-7b1e521f3108</td>\n",
       "      <td>hm3d-v0/002-hm3d-wcojb4TFT35</td>\n",
       "      <td>NaN</td>\n",
       "    </tr>\n",
       "  </tbody>\n",
       "</table>\n",
       "</div>"
      ],
      "text/plain": [
       "                                             question                  answer  \\\n",
       "3   What is in between the two picture frames on t...                  The TV   \n",
       "4           Is there room on the dining table to eat?                     Yes   \n",
       "13                 What is to the left of the mirror?  A plant in a tall vase   \n",
       "14              What is to the left of the staircase?        A storage closet   \n",
       "22  What is on the top shelf to the right side of ...           An ice cooler   \n",
       "\n",
       "                 category                           question_id  \\\n",
       "3   spatial understanding  c841bb52-1cec-46d7-bb83-8c99b5c66fa8   \n",
       "4   spatial understanding  79344680-6b45-4531-8789-ad0f5ef85b3b   \n",
       "13  spatial understanding  b6dcf043-30a6-4b4e-9787-9b29bd1b1703   \n",
       "14  spatial understanding  5460114d-e885-4eae-8bdc-a273deb3df0a   \n",
       "22  spatial understanding  9b4a7fbb-680d-4e39-8d60-7b1e521f3108   \n",
       "\n",
       "                 episode_history extra_answers  \n",
       "3   hm3d-v0/000-hm3d-BFRyYbPCCPE           NaN  \n",
       "4   hm3d-v0/000-hm3d-BFRyYbPCCPE           NaN  \n",
       "13  hm3d-v0/001-hm3d-TPhiubUHKcP           NaN  \n",
       "14  hm3d-v0/001-hm3d-TPhiubUHKcP           NaN  \n",
       "22  hm3d-v0/002-hm3d-wcojb4TFT35           NaN  "
      ]
     },
     "execution_count": 5,
     "metadata": {},
     "output_type": "execute_result"
    }
   ],
   "source": [
    "spatial_hm3d = spatial[spatial.episode_history.str.contains(r'^hm3d.*', na=False)]\n",
    "print(spatial_hm3d.shape)\n",
    "spatial_hm3d.head()"
   ]
  },
  {
   "cell_type": "markdown",
   "metadata": {},
   "source": [
    "### Load episode history to 'movie'"
   ]
  },
  {
   "cell_type": "code",
   "execution_count": 15,
   "metadata": {},
   "outputs": [],
   "source": [
    "def load_images_to_array(directory):\n",
    "    # List all PNG files in the directory\n",
    "    files = [f for f in sorted(os.listdir(directory)) if f.endswith('.png')]\n",
    "    images = []\n",
    "    \n",
    "    # Loop through files and load each image\n",
    "    for file in files:\n",
    "        # Construct full file path\n",
    "        file_path = os.path.join(directory, file)\n",
    "        # Open the image file\n",
    "        with Image.open(file_path) as img:\n",
    "            # Convert the image to RGB (if not already in that format)\n",
    "            img = img.convert('RGB')\n",
    "            # Convert the image to a NumPy array and append to list\n",
    "            images.append(np.array(img))\n",
    "    \n",
    "    video = np.stack(images)\n",
    "    total_frames = video.shape[0]\n",
    "\n",
    "    indices = np.linspace(0, total_frames - 1, num=8, dtype=int)\n",
    "    images = [video[i] for i in indices]\n",
    "    # Stack all image arrays into a single numpy array\n",
    "    return np.stack(images)"
   ]
  },
  {
   "cell_type": "markdown",
   "metadata": {},
   "source": [
    "### Load VideoLLaVA"
   ]
  },
  {
   "cell_type": "code",
   "execution_count": 7,
   "metadata": {},
   "outputs": [
    {
     "name": "stderr",
     "output_type": "stream",
     "text": [
      "The model weights are not tied. Please use the `tie_weights` method before using the `infer_auto_device` function.\n",
      "Loading checkpoint shards: 100%|██████████| 3/3 [00:10<00:00,  3.43s/it]\n",
      "WARNING:root:Some parameters are on the meta device device because they were offloaded to the cpu and disk.\n",
      "WARNING:tensorflow:From c:\\Users\\Bridget Leonard\\AppData\\Local\\Programs\\Python\\Python311\\Lib\\site-packages\\keras\\src\\losses.py:2976: The name tf.losses.sparse_softmax_cross_entropy is deprecated. Please use tf.compat.v1.losses.sparse_softmax_cross_entropy instead.\n",
      "\n",
      "Special tokens have been added in the vocabulary, make sure the associated word embeddings are fine-tuned or trained.\n"
     ]
    }
   ],
   "source": [
    "model = VideoLlavaForConditionalGeneration.from_pretrained(\"LanguageBind/Video-LLaVA-7B-hf\", device_map=\"auto\")\n",
    "processor = VideoLlavaProcessor.from_pretrained(\"LanguageBind/Video-LLaVA-7B-hf\")"
   ]
  },
  {
   "cell_type": "code",
   "execution_count": 8,
   "metadata": {},
   "outputs": [
    {
     "data": {
      "text/plain": [
       "'What is in between the two picture frames on the blue wall in the living room?'"
      ]
     },
     "execution_count": 8,
     "metadata": {},
     "output_type": "execute_result"
    }
   ],
   "source": [
    "question = spatial_hm3d.iloc[0].question\n",
    "question"
   ]
  },
  {
   "cell_type": "code",
   "execution_count": 9,
   "metadata": {},
   "outputs": [
    {
     "data": {
      "text/plain": [
       "'USER: <video>What is in between the two picture frames on the blue wall in the living room? ASSISTANT:'"
      ]
     },
     "execution_count": 9,
     "metadata": {},
     "output_type": "execute_result"
    }
   ],
   "source": [
    "prompt = f\"USER: <video>{question} ASSISTANT:\"\n",
    "prompt"
   ]
  },
  {
   "cell_type": "code",
   "execution_count": 16,
   "metadata": {},
   "outputs": [],
   "source": [
    "ep_history = spatial_hm3d.iloc[0].episode_history\n",
    "video = load_images_to_array(f'data/frames/{ep_history}')"
   ]
  },
  {
   "cell_type": "code",
   "execution_count": 17,
   "metadata": {},
   "outputs": [
    {
     "data": {
      "text/plain": [
       "(8, 1080, 1920, 3)"
      ]
     },
     "execution_count": 17,
     "metadata": {},
     "output_type": "execute_result"
    }
   ],
   "source": [
    "video.shape"
   ]
  },
  {
   "cell_type": "code",
   "execution_count": 18,
   "metadata": {},
   "outputs": [],
   "source": [
    "inputs = processor(text=prompt, videos=video, return_tensors=\"pt\")"
   ]
  },
  {
   "cell_type": "code",
   "execution_count": 19,
   "metadata": {},
   "outputs": [],
   "source": [
    "out = model.generate(**inputs, max_new_tokens=40)\n",
    "print(processor.batch_decode(out, skip_special_tokens=True, clean_up_tokenization_spaces=True))"
   ]
  }
 ],
 "metadata": {
  "kernelspec": {
   "display_name": "Python 3",
   "language": "python",
   "name": "python3"
  },
  "language_info": {
   "codemirror_mode": {
    "name": "ipython",
    "version": 3
   },
   "file_extension": ".py",
   "mimetype": "text/x-python",
   "name": "python",
   "nbconvert_exporter": "python",
   "pygments_lexer": "ipython3",
   "version": "3.11.7"
  }
 },
 "nbformat": 4,
 "nbformat_minor": 2
}
